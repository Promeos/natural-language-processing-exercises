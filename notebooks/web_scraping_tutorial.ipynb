{
 "cells": [
  {
   "cell_type": "markdown",
   "metadata": {},
   "source": [
    "# Web Scraping Tutorial using IMDb"
   ]
  },
  {
   "cell_type": "code",
   "execution_count": 1,
   "metadata": {},
   "outputs": [],
   "source": [
    "import pandas as pd\n",
    "from requests import get"
   ]
  },
  {
   "cell_type": "code",
   "execution_count": 2,
   "metadata": {},
   "outputs": [
    {
     "name": "stdout",
     "output_type": "stream",
     "text": [
      "\n",
      "\n",
      "<!DOCTYPE html>\n",
      "<html\n",
      "    xmlns:og=\"http://ogp.me/ns#\"\n",
      "    xmlns:fb=\"http://www.facebook.com/2008/fbml\">\n",
      "    <head>\n",
      "         \n",
      "        <meta charset=\"utf-8\">\n",
      "        <meta http-equiv=\"X-UA-Compatible\" content=\"IE=edge\">\n",
      "\n",
      "    <meta name=\"apple-itunes-app\" content=\"app-id=342792525, app-argument=imdb:///?src=mdot\">\n",
      "\n",
      "\n",
      "\n",
      "        <script type=\"text/javascript\">var IMDbTimer={starttime: new Date().getTime(),pt:'java'};</script>\n",
      "\n",
      "<script>\n",
      "    if (typeof uet == 'function') {\n",
      "      uet(\"bb\", \"LoadTitle\",\n"
     ]
    }
   ],
   "source": [
    "url = 'http://www.imdb.com/search/title?release_date=2017&sort=num_votes,desc&page=1'\n",
    "headers = {\"Accept-Language\": \"en-US, en;q=0.5\",\n",
    "           \"User-Agent\": \"Promeos\"}\n",
    "\n",
    "response = get(url, headers)\n",
    "print(response.text[:500])"
   ]
  },
  {
   "cell_type": "code",
   "execution_count": 3,
   "metadata": {},
   "outputs": [
    {
     "data": {
      "text/plain": [
       "bs4.BeautifulSoup"
      ]
     },
     "execution_count": 3,
     "metadata": {},
     "output_type": "execute_result"
    }
   ],
   "source": [
    "from bs4 import BeautifulSoup\n",
    "soup = BeautifulSoup(response.text, 'html.parser')\n",
    "type(soup)"
   ]
  },
  {
   "cell_type": "code",
   "execution_count": 4,
   "metadata": {
    "scrolled": false
   },
   "outputs": [],
   "source": [
    "movie_containers = soup.find_all('div', class_='lister-item mode-advanced')"
   ]
  },
  {
   "cell_type": "code",
   "execution_count": 5,
   "metadata": {},
   "outputs": [],
   "source": [
    "first_movie = movie_containers[0]"
   ]
  },
  {
   "cell_type": "code",
   "execution_count": 6,
   "metadata": {},
   "outputs": [],
   "source": [
    "# Movie name\n",
    "movie_name = first_movie.h3.a.string"
   ]
  },
  {
   "cell_type": "code",
   "execution_count": 7,
   "metadata": {
    "scrolled": false
   },
   "outputs": [],
   "source": [
    "# Movie Release Date\n",
    "release_date = first_movie.h3.find('span', class_='lister-item-year text-muted unbold').string"
   ]
  },
  {
   "cell_type": "code",
   "execution_count": 8,
   "metadata": {},
   "outputs": [],
   "source": [
    "# IMDB Rating\n",
    "imdb_rating = float(first_movie.strong.string)"
   ]
  },
  {
   "cell_type": "code",
   "execution_count": 9,
   "metadata": {},
   "outputs": [],
   "source": [
    "# Metascore Rating\n",
    "meta_rating = int(first_movie.find('span', class_='metascore favorable').string)"
   ]
  },
  {
   "cell_type": "code",
   "execution_count": 10,
   "metadata": {},
   "outputs": [
    {
     "data": {
      "text/plain": [
       "'77        '"
      ]
     },
     "execution_count": 10,
     "metadata": {},
     "output_type": "execute_result"
    }
   ],
   "source": [
    "first_movie.find('div', class_='inline-block ratings-metascore').span.string"
   ]
  },
  {
   "cell_type": "code",
   "execution_count": 11,
   "metadata": {},
   "outputs": [],
   "source": [
    "# Number of votes\n",
    "number_of_votes = int(first_movie.find('span', attrs={'name': 'nv'})['data-value'])"
   ]
  },
  {
   "cell_type": "code",
   "execution_count": 12,
   "metadata": {},
   "outputs": [],
   "source": [
    "# Movie without a Metascore\n",
    "no_meta_score_movie = movie_containers[17]"
   ]
  },
  {
   "cell_type": "code",
   "execution_count": 13,
   "metadata": {},
   "outputs": [],
   "source": [
    "no_meta_score_movie.find('div', class_='inline-block ratings-metascore')"
   ]
  },
  {
   "cell_type": "code",
   "execution_count": 14,
   "metadata": {},
   "outputs": [
    {
     "data": {
      "text/plain": [
       "'Money Heist'"
      ]
     },
     "execution_count": 14,
     "metadata": {},
     "output_type": "execute_result"
    }
   ],
   "source": [
    "no_meta_score_movie.h3.a.string"
   ]
  },
  {
   "cell_type": "code",
   "execution_count": 15,
   "metadata": {},
   "outputs": [],
   "source": [
    "# Iterate through the first 50 movies to display our\n",
    "# Movie database structure\n",
    "movie_titles = []\n",
    "release_dates = []\n",
    "IMDb_ratings = []\n",
    "metascores = []\n",
    "votes = []\n",
    "\n",
    "for movie in movie_containers:\n",
    "    if movie.find('div', class_='inline-block ratings-metascore') != None:\n",
    "        title = movie.h3.a.string\n",
    "        movie_titles.append(title)\n",
    "        \n",
    "        release_date = movie.h3.find('span', class_='lister-item-year text-muted unbold').string\n",
    "        release_dates.append(release_date)\n",
    "        \n",
    "        IMDb_rating = float(movie.strong.string)\n",
    "        IMDb_ratings.append(IMDb_rating)\n",
    "        \n",
    "        metascore = int(movie.find('div', class_='inline-block ratings-metascore').span.string)\n",
    "        metascores.append(metascore)\n",
    "        \n",
    "        vote = int(movie.find('span', attrs={'name': 'nv'})['data-value'])\n",
    "        votes.append(vote)\n",
    "    else:\n",
    "        continue\n",
    "\n",
    "movie_db_2017 = pd.DataFrame({'title' : movie_titles,\n",
    "                              'release_date' : release_dates,\n",
    "                              'imdb_rating' : IMDb_ratings,\n",
    "                              'metascore' : metascores,\n",
    "                              'votes' : votes}\n",
    "                            )"
   ]
  },
  {
   "cell_type": "code",
   "execution_count": 16,
   "metadata": {},
   "outputs": [
    {
     "data": {
      "text/html": [
       "<div>\n",
       "<style scoped>\n",
       "    .dataframe tbody tr th:only-of-type {\n",
       "        vertical-align: middle;\n",
       "    }\n",
       "\n",
       "    .dataframe tbody tr th {\n",
       "        vertical-align: top;\n",
       "    }\n",
       "\n",
       "    .dataframe thead th {\n",
       "        text-align: right;\n",
       "    }\n",
       "</style>\n",
       "<table border=\"1\" class=\"dataframe\">\n",
       "  <thead>\n",
       "    <tr style=\"text-align: right;\">\n",
       "      <th></th>\n",
       "      <th>title</th>\n",
       "      <th>release_date</th>\n",
       "      <th>imdb_rating</th>\n",
       "      <th>metascore</th>\n",
       "      <th>votes</th>\n",
       "    </tr>\n",
       "  </thead>\n",
       "  <tbody>\n",
       "    <tr>\n",
       "      <th>0</th>\n",
       "      <td>Logan</td>\n",
       "      <td>(2017)</td>\n",
       "      <td>8.1</td>\n",
       "      <td>77</td>\n",
       "      <td>636299</td>\n",
       "    </tr>\n",
       "    <tr>\n",
       "      <th>1</th>\n",
       "      <td>Thor: Ragnarok</td>\n",
       "      <td>(2017)</td>\n",
       "      <td>7.9</td>\n",
       "      <td>74</td>\n",
       "      <td>574253</td>\n",
       "    </tr>\n",
       "    <tr>\n",
       "      <th>2</th>\n",
       "      <td>Guardians of the Galaxy Vol. 2</td>\n",
       "      <td>(2017)</td>\n",
       "      <td>7.6</td>\n",
       "      <td>67</td>\n",
       "      <td>558519</td>\n",
       "    </tr>\n",
       "    <tr>\n",
       "      <th>3</th>\n",
       "      <td>Star Wars: Episode VIII - The Last Jedi</td>\n",
       "      <td>(2017)</td>\n",
       "      <td>7.0</td>\n",
       "      <td>84</td>\n",
       "      <td>554052</td>\n",
       "    </tr>\n",
       "    <tr>\n",
       "      <th>4</th>\n",
       "      <td>Dunkirk</td>\n",
       "      <td>(2017)</td>\n",
       "      <td>7.9</td>\n",
       "      <td>94</td>\n",
       "      <td>542019</td>\n",
       "    </tr>\n",
       "    <tr>\n",
       "      <th>5</th>\n",
       "      <td>Wonder Woman</td>\n",
       "      <td>(2017)</td>\n",
       "      <td>7.4</td>\n",
       "      <td>76</td>\n",
       "      <td>541890</td>\n",
       "    </tr>\n",
       "    <tr>\n",
       "      <th>6</th>\n",
       "      <td>Spider-Man: Homecoming</td>\n",
       "      <td>(2017)</td>\n",
       "      <td>7.4</td>\n",
       "      <td>73</td>\n",
       "      <td>501407</td>\n",
       "    </tr>\n",
       "    <tr>\n",
       "      <th>7</th>\n",
       "      <td>Get Out</td>\n",
       "      <td>(I) (2017)</td>\n",
       "      <td>7.7</td>\n",
       "      <td>85</td>\n",
       "      <td>482169</td>\n",
       "    </tr>\n",
       "    <tr>\n",
       "      <th>8</th>\n",
       "      <td>It</td>\n",
       "      <td>(I) (2017)</td>\n",
       "      <td>7.3</td>\n",
       "      <td>69</td>\n",
       "      <td>452138</td>\n",
       "    </tr>\n",
       "    <tr>\n",
       "      <th>9</th>\n",
       "      <td>Blade Runner 2049</td>\n",
       "      <td>(2017)</td>\n",
       "      <td>8.0</td>\n",
       "      <td>81</td>\n",
       "      <td>450220</td>\n",
       "    </tr>\n",
       "    <tr>\n",
       "      <th>10</th>\n",
       "      <td>Baby Driver</td>\n",
       "      <td>(2017)</td>\n",
       "      <td>7.6</td>\n",
       "      <td>86</td>\n",
       "      <td>429827</td>\n",
       "    </tr>\n",
       "    <tr>\n",
       "      <th>11</th>\n",
       "      <td>Three Billboards Outside Ebbing, Missouri</td>\n",
       "      <td>(2017)</td>\n",
       "      <td>8.2</td>\n",
       "      <td>88</td>\n",
       "      <td>419938</td>\n",
       "    </tr>\n",
       "    <tr>\n",
       "      <th>12</th>\n",
       "      <td>Justice League</td>\n",
       "      <td>(2017)</td>\n",
       "      <td>6.3</td>\n",
       "      <td>45</td>\n",
       "      <td>376487</td>\n",
       "    </tr>\n",
       "    <tr>\n",
       "      <th>13</th>\n",
       "      <td>Coco</td>\n",
       "      <td>(I) (2017)</td>\n",
       "      <td>8.4</td>\n",
       "      <td>81</td>\n",
       "      <td>364473</td>\n",
       "    </tr>\n",
       "    <tr>\n",
       "      <th>14</th>\n",
       "      <td>The Shape of Water</td>\n",
       "      <td>(2017)</td>\n",
       "      <td>7.3</td>\n",
       "      <td>87</td>\n",
       "      <td>362832</td>\n",
       "    </tr>\n",
       "    <tr>\n",
       "      <th>15</th>\n",
       "      <td>John Wick: Chapter 2</td>\n",
       "      <td>(2017)</td>\n",
       "      <td>7.5</td>\n",
       "      <td>75</td>\n",
       "      <td>358044</td>\n",
       "    </tr>\n",
       "    <tr>\n",
       "      <th>16</th>\n",
       "      <td>Jumanji: Welcome to the Jungle</td>\n",
       "      <td>(2017)</td>\n",
       "      <td>6.9</td>\n",
       "      <td>58</td>\n",
       "      <td>313478</td>\n",
       "    </tr>\n",
       "    <tr>\n",
       "      <th>17</th>\n",
       "      <td>Beauty and the Beast</td>\n",
       "      <td>(I) (2017)</td>\n",
       "      <td>7.1</td>\n",
       "      <td>65</td>\n",
       "      <td>268656</td>\n",
       "    </tr>\n",
       "    <tr>\n",
       "      <th>18</th>\n",
       "      <td>Kingsman: The Golden Circle</td>\n",
       "      <td>(2017)</td>\n",
       "      <td>6.7</td>\n",
       "      <td>44</td>\n",
       "      <td>267827</td>\n",
       "    </tr>\n",
       "    <tr>\n",
       "      <th>19</th>\n",
       "      <td>Kong: Skull Island</td>\n",
       "      <td>(2017)</td>\n",
       "      <td>6.6</td>\n",
       "      <td>62</td>\n",
       "      <td>264632</td>\n",
       "    </tr>\n",
       "    <tr>\n",
       "      <th>20</th>\n",
       "      <td>Pirates of the Caribbean: Dead Men Tell No Tales</td>\n",
       "      <td>(2017)</td>\n",
       "      <td>6.6</td>\n",
       "      <td>39</td>\n",
       "      <td>258378</td>\n",
       "    </tr>\n",
       "    <tr>\n",
       "      <th>21</th>\n",
       "      <td>Alien: Covenant</td>\n",
       "      <td>(2017)</td>\n",
       "      <td>6.4</td>\n",
       "      <td>65</td>\n",
       "      <td>251058</td>\n",
       "    </tr>\n",
       "    <tr>\n",
       "      <th>22</th>\n",
       "      <td>Lady Bird</td>\n",
       "      <td>(2017)</td>\n",
       "      <td>7.4</td>\n",
       "      <td>94</td>\n",
       "      <td>234697</td>\n",
       "    </tr>\n",
       "    <tr>\n",
       "      <th>23</th>\n",
       "      <td>The Greatest Showman</td>\n",
       "      <td>(2017)</td>\n",
       "      <td>7.6</td>\n",
       "      <td>48</td>\n",
       "      <td>231679</td>\n",
       "    </tr>\n",
       "    <tr>\n",
       "      <th>24</th>\n",
       "      <td>War for the Planet of the Apes</td>\n",
       "      <td>(2017)</td>\n",
       "      <td>7.4</td>\n",
       "      <td>82</td>\n",
       "      <td>224620</td>\n",
       "    </tr>\n",
       "    <tr>\n",
       "      <th>25</th>\n",
       "      <td>Murder on the Orient Express</td>\n",
       "      <td>(2017)</td>\n",
       "      <td>6.5</td>\n",
       "      <td>52</td>\n",
       "      <td>208662</td>\n",
       "    </tr>\n",
       "    <tr>\n",
       "      <th>26</th>\n",
       "      <td>Life</td>\n",
       "      <td>(I) (2017)</td>\n",
       "      <td>6.6</td>\n",
       "      <td>54</td>\n",
       "      <td>204898</td>\n",
       "    </tr>\n",
       "    <tr>\n",
       "      <th>27</th>\n",
       "      <td>Call Me by Your Name</td>\n",
       "      <td>(2017)</td>\n",
       "      <td>7.9</td>\n",
       "      <td>93</td>\n",
       "      <td>204861</td>\n",
       "    </tr>\n",
       "    <tr>\n",
       "      <th>28</th>\n",
       "      <td>The Fate of the Furious</td>\n",
       "      <td>(2017)</td>\n",
       "      <td>6.7</td>\n",
       "      <td>56</td>\n",
       "      <td>201558</td>\n",
       "    </tr>\n",
       "    <tr>\n",
       "      <th>29</th>\n",
       "      <td>Wind River</td>\n",
       "      <td>(2017)</td>\n",
       "      <td>7.7</td>\n",
       "      <td>73</td>\n",
       "      <td>198569</td>\n",
       "    </tr>\n",
       "    <tr>\n",
       "      <th>30</th>\n",
       "      <td>Ghost in the Shell</td>\n",
       "      <td>(2017)</td>\n",
       "      <td>6.3</td>\n",
       "      <td>52</td>\n",
       "      <td>193324</td>\n",
       "    </tr>\n",
       "    <tr>\n",
       "      <th>31</th>\n",
       "      <td>King Arthur: Legend of the Sword</td>\n",
       "      <td>(2017)</td>\n",
       "      <td>6.7</td>\n",
       "      <td>41</td>\n",
       "      <td>189161</td>\n",
       "    </tr>\n",
       "    <tr>\n",
       "      <th>32</th>\n",
       "      <td>Mother!</td>\n",
       "      <td>(2017)</td>\n",
       "      <td>6.6</td>\n",
       "      <td>75</td>\n",
       "      <td>187897</td>\n",
       "    </tr>\n",
       "    <tr>\n",
       "      <th>33</th>\n",
       "      <td>The Hitman's Bodyguard</td>\n",
       "      <td>(2017)</td>\n",
       "      <td>6.9</td>\n",
       "      <td>47</td>\n",
       "      <td>183494</td>\n",
       "    </tr>\n",
       "    <tr>\n",
       "      <th>34</th>\n",
       "      <td>I, Tonya</td>\n",
       "      <td>(2017)</td>\n",
       "      <td>7.5</td>\n",
       "      <td>77</td>\n",
       "      <td>177239</td>\n",
       "    </tr>\n",
       "    <tr>\n",
       "      <th>35</th>\n",
       "      <td>Atomic Blonde</td>\n",
       "      <td>(2017)</td>\n",
       "      <td>6.7</td>\n",
       "      <td>63</td>\n",
       "      <td>173318</td>\n",
       "    </tr>\n",
       "    <tr>\n",
       "      <th>36</th>\n",
       "      <td>The Mummy</td>\n",
       "      <td>(2017)</td>\n",
       "      <td>5.4</td>\n",
       "      <td>34</td>\n",
       "      <td>170826</td>\n",
       "    </tr>\n",
       "    <tr>\n",
       "      <th>37</th>\n",
       "      <td>Darkest Hour</td>\n",
       "      <td>(2017)</td>\n",
       "      <td>7.4</td>\n",
       "      <td>75</td>\n",
       "      <td>168688</td>\n",
       "    </tr>\n",
       "    <tr>\n",
       "      <th>38</th>\n",
       "      <td>Bright</td>\n",
       "      <td>(I) (2017)</td>\n",
       "      <td>6.3</td>\n",
       "      <td>29</td>\n",
       "      <td>166474</td>\n",
       "    </tr>\n",
       "    <tr>\n",
       "      <th>39</th>\n",
       "      <td>Valerian and the City of a Thousand Planets</td>\n",
       "      <td>(2017)</td>\n",
       "      <td>6.5</td>\n",
       "      <td>51</td>\n",
       "      <td>159705</td>\n",
       "    </tr>\n",
       "    <tr>\n",
       "      <th>40</th>\n",
       "      <td>Baywatch</td>\n",
       "      <td>(2017)</td>\n",
       "      <td>5.5</td>\n",
       "      <td>37</td>\n",
       "      <td>158162</td>\n",
       "    </tr>\n",
       "    <tr>\n",
       "      <th>41</th>\n",
       "      <td>American Made</td>\n",
       "      <td>(2017)</td>\n",
       "      <td>7.2</td>\n",
       "      <td>65</td>\n",
       "      <td>155945</td>\n",
       "    </tr>\n",
       "  </tbody>\n",
       "</table>\n",
       "</div>"
      ],
      "text/plain": [
       "                                               title release_date  \\\n",
       "0                                              Logan       (2017)   \n",
       "1                                     Thor: Ragnarok       (2017)   \n",
       "2                     Guardians of the Galaxy Vol. 2       (2017)   \n",
       "3            Star Wars: Episode VIII - The Last Jedi       (2017)   \n",
       "4                                            Dunkirk       (2017)   \n",
       "5                                       Wonder Woman       (2017)   \n",
       "6                             Spider-Man: Homecoming       (2017)   \n",
       "7                                            Get Out   (I) (2017)   \n",
       "8                                                 It   (I) (2017)   \n",
       "9                                  Blade Runner 2049       (2017)   \n",
       "10                                       Baby Driver       (2017)   \n",
       "11         Three Billboards Outside Ebbing, Missouri       (2017)   \n",
       "12                                    Justice League       (2017)   \n",
       "13                                              Coco   (I) (2017)   \n",
       "14                                The Shape of Water       (2017)   \n",
       "15                              John Wick: Chapter 2       (2017)   \n",
       "16                    Jumanji: Welcome to the Jungle       (2017)   \n",
       "17                              Beauty and the Beast   (I) (2017)   \n",
       "18                       Kingsman: The Golden Circle       (2017)   \n",
       "19                                Kong: Skull Island       (2017)   \n",
       "20  Pirates of the Caribbean: Dead Men Tell No Tales       (2017)   \n",
       "21                                   Alien: Covenant       (2017)   \n",
       "22                                         Lady Bird       (2017)   \n",
       "23                              The Greatest Showman       (2017)   \n",
       "24                    War for the Planet of the Apes       (2017)   \n",
       "25                      Murder on the Orient Express       (2017)   \n",
       "26                                              Life   (I) (2017)   \n",
       "27                              Call Me by Your Name       (2017)   \n",
       "28                           The Fate of the Furious       (2017)   \n",
       "29                                        Wind River       (2017)   \n",
       "30                                Ghost in the Shell       (2017)   \n",
       "31                  King Arthur: Legend of the Sword       (2017)   \n",
       "32                                           Mother!       (2017)   \n",
       "33                            The Hitman's Bodyguard       (2017)   \n",
       "34                                          I, Tonya       (2017)   \n",
       "35                                     Atomic Blonde       (2017)   \n",
       "36                                         The Mummy       (2017)   \n",
       "37                                      Darkest Hour       (2017)   \n",
       "38                                            Bright   (I) (2017)   \n",
       "39       Valerian and the City of a Thousand Planets       (2017)   \n",
       "40                                          Baywatch       (2017)   \n",
       "41                                     American Made       (2017)   \n",
       "\n",
       "    imdb_rating  metascore   votes  \n",
       "0           8.1         77  636299  \n",
       "1           7.9         74  574253  \n",
       "2           7.6         67  558519  \n",
       "3           7.0         84  554052  \n",
       "4           7.9         94  542019  \n",
       "5           7.4         76  541890  \n",
       "6           7.4         73  501407  \n",
       "7           7.7         85  482169  \n",
       "8           7.3         69  452138  \n",
       "9           8.0         81  450220  \n",
       "10          7.6         86  429827  \n",
       "11          8.2         88  419938  \n",
       "12          6.3         45  376487  \n",
       "13          8.4         81  364473  \n",
       "14          7.3         87  362832  \n",
       "15          7.5         75  358044  \n",
       "16          6.9         58  313478  \n",
       "17          7.1         65  268656  \n",
       "18          6.7         44  267827  \n",
       "19          6.6         62  264632  \n",
       "20          6.6         39  258378  \n",
       "21          6.4         65  251058  \n",
       "22          7.4         94  234697  \n",
       "23          7.6         48  231679  \n",
       "24          7.4         82  224620  \n",
       "25          6.5         52  208662  \n",
       "26          6.6         54  204898  \n",
       "27          7.9         93  204861  \n",
       "28          6.7         56  201558  \n",
       "29          7.7         73  198569  \n",
       "30          6.3         52  193324  \n",
       "31          6.7         41  189161  \n",
       "32          6.6         75  187897  \n",
       "33          6.9         47  183494  \n",
       "34          7.5         77  177239  \n",
       "35          6.7         63  173318  \n",
       "36          5.4         34  170826  \n",
       "37          7.4         75  168688  \n",
       "38          6.3         29  166474  \n",
       "39          6.5         51  159705  \n",
       "40          5.5         37  158162  \n",
       "41          7.2         65  155945  "
      ]
     },
     "execution_count": 16,
     "metadata": {},
     "output_type": "execute_result"
    }
   ],
   "source": [
    "movie_db_2017"
   ]
  },
  {
   "cell_type": "code",
   "execution_count": 17,
   "metadata": {},
   "outputs": [
    {
     "name": "stdout",
     "output_type": "stream",
     "text": [
      "<class 'pandas.core.frame.DataFrame'>\n",
      "RangeIndex: 42 entries, 0 to 41\n",
      "Data columns (total 5 columns):\n",
      " #   Column        Non-Null Count  Dtype  \n",
      "---  ------        --------------  -----  \n",
      " 0   title         42 non-null     object \n",
      " 1   release_date  42 non-null     object \n",
      " 2   imdb_rating   42 non-null     float64\n",
      " 3   metascore     42 non-null     int64  \n",
      " 4   votes         42 non-null     int64  \n",
      "dtypes: float64(1), int64(2), object(2)\n",
      "memory usage: 1.8+ KB\n"
     ]
    }
   ],
   "source": [
    "movie_db_2017.info()"
   ]
  },
  {
   "cell_type": "markdown",
   "metadata": {},
   "source": [
    "## Creating a script for multiple pages\n",
    "Now that we understand the structure of a single page and know how to address missing values, let's create a script to scrape multuple web pages.\n",
    "```python\n",
    "'http://www.imdb.com/search/title?release_date=2017&sort=num_votes,desc&page=1'\n",
    "```\n",
    "The URL reads: Seach by titles released in 2017 and sort them by the number of votes in descending order on page 1.\n",
    "To create an proper script we'll only need the release_date and page numbers to change as we iterate web scraping."
   ]
  },
  {
   "cell_type": "code",
   "execution_count": 18,
   "metadata": {},
   "outputs": [],
   "source": [
    "release_date = [str(year) for year in range(2000, 2020)]\n",
    "pages = [str(page) for page in range(1, 5)]"
   ]
  },
  {
   "cell_type": "code",
   "execution_count": 19,
   "metadata": {},
   "outputs": [],
   "source": [
    "from time import sleep\n",
    "from random import randint"
   ]
  },
  {
   "cell_type": "code",
   "execution_count": 20,
   "metadata": {},
   "outputs": [],
   "source": [
    "from time import time\n",
    "from IPython.core.display import clear_output"
   ]
  },
  {
   "cell_type": "code",
   "execution_count": 21,
   "metadata": {},
   "outputs": [],
   "source": [
    "start_time = time()"
   ]
  },
  {
   "cell_type": "code",
   "execution_count": 22,
   "metadata": {},
   "outputs": [],
   "source": [
    "requests = 0"
   ]
  },
  {
   "cell_type": "code",
   "execution_count": 23,
   "metadata": {},
   "outputs": [
    {
     "name": "stdout",
     "output_type": "stream",
     "text": [
      "Request: 5; Frequency: 0.45339408762912553 requests/s\n"
     ]
    }
   ],
   "source": [
    "for _ in range(5):\n",
    "    requests += 1\n",
    "    sleep(randint(1,3))\n",
    "    elapsed_time = time() - start_time\n",
    "    print('Request: {}; Frequency: {} requests/s'.format(requests, requests/elapsed_time))\n",
    "    clear_output(wait=True)"
   ]
  },
  {
   "cell_type": "code",
   "execution_count": 24,
   "metadata": {},
   "outputs": [
    {
     "name": "stderr",
     "output_type": "stream",
     "text": [
      "/usr/local/anaconda3/lib/python3.7/site-packages/ipykernel_launcher.py:2: UserWarning: Warning Simulation\n",
      "  \n"
     ]
    }
   ],
   "source": [
    "from warnings import warn\n",
    "warn(\"Warning Simulation\")"
   ]
  },
  {
   "cell_type": "code",
   "execution_count": 25,
   "metadata": {},
   "outputs": [
    {
     "name": "stdout",
     "output_type": "stream",
     "text": [
      "Request: 80; Frequency: 0.07869433769554489 requests/s\n"
     ]
    }
   ],
   "source": [
    "movie_titles = []\n",
    "release_dates = []\n",
    "IMDb_ratings = []\n",
    "metascores = []\n",
    "votes = []\n",
    "\n",
    "start_time = time()\n",
    "requests = 0\n",
    "\n",
    "for year in release_date:\n",
    "    for page in pages:\n",
    "        url = f'http://www.imdb.com/search/title?release_date={year}&sort=num_votes,desc&page={page}'\n",
    "        headers = {\"Accept-Language\": \"en-US, en;q=0.5\",\n",
    "                   \"User-Agent\": \"Promeos\"}\n",
    "\n",
    "        response = get(url, headers)\n",
    "        \n",
    "        sleep(randint(8, 15))\n",
    "        \n",
    "        requests += 1\n",
    "        elapsed_time = time() - start_time\n",
    "        print('Request: {}; Frequency: {} requests/s'.format(requests, requests/elapsed_time))\n",
    "        clear_output(wait=True)\n",
    "        \n",
    "        if response.status_code != 200:\n",
    "            warn(f\"Request{response}, Status Code {response.status_code}\")\n",
    "            \n",
    "        html_movies = BeautifulSoup(response.text, 'html.parser')\n",
    "        \n",
    "        mv_containers = html_movies.find_all('div', class_='lister-item mode-advanced')\n",
    "        \n",
    "        for movie in mv_containers:\n",
    "            has_metascore = movie.find('div', class_='inline-block ratings-metascore') != None\n",
    "            if has_metascore:\n",
    "                title = movie.h3.a.string\n",
    "                movie_titles.append(title)\n",
    "\n",
    "                release_date = movie.h3.find('span', class_='lister-item-year text-muted unbold').string\n",
    "                release_dates.append(release_date)\n",
    "\n",
    "                IMDb_rating = float(movie.strong.string)\n",
    "                IMDb_ratings.append(IMDb_rating)\n",
    "\n",
    "                metascore = int(movie.find('div', class_='inline-block ratings-metascore').span.string)\n",
    "                metascores.append(metascore)\n",
    "\n",
    "                vote = int(movie.find('span', attrs={'name': 'nv'})['data-value'])\n",
    "                votes.append(vote)\n",
    "            else:\n",
    "                continue\n",
    "\n",
    "movie_db = pd.DataFrame({'title' : movie_titles,\n",
    "                         'release_date' : release_dates,\n",
    "                         'imdb_rating' : IMDb_ratings,\n",
    "                         'metascore' : metascores,\n",
    "                         'votes' : votes})"
   ]
  },
  {
   "cell_type": "code",
   "execution_count": 27,
   "metadata": {},
   "outputs": [
    {
     "data": {
      "text/plain": [
       "(3620, 5)"
      ]
     },
     "execution_count": 27,
     "metadata": {},
     "output_type": "execute_result"
    }
   ],
   "source": [
    "movie_db.shape"
   ]
  },
  {
   "cell_type": "code",
   "execution_count": 28,
   "metadata": {},
   "outputs": [
    {
     "name": "stdout",
     "output_type": "stream",
     "text": [
      "<class 'pandas.core.frame.DataFrame'>\n",
      "RangeIndex: 3620 entries, 0 to 3619\n",
      "Data columns (total 5 columns):\n",
      " #   Column        Non-Null Count  Dtype  \n",
      "---  ------        --------------  -----  \n",
      " 0   title         3620 non-null   object \n",
      " 1   release_date  3620 non-null   object \n",
      " 2   imdb_rating   3620 non-null   float64\n",
      " 3   metascore     3620 non-null   int64  \n",
      " 4   votes         3620 non-null   int64  \n",
      "dtypes: float64(1), int64(2), object(2)\n",
      "memory usage: 141.5+ KB\n"
     ]
    }
   ],
   "source": [
    "movie_db.info()"
   ]
  },
  {
   "cell_type": "code",
   "execution_count": 29,
   "metadata": {},
   "outputs": [],
   "source": [
    "movie_db.to_csv('movie_db.csv')"
   ]
  }
 ],
 "metadata": {
  "kernelspec": {
   "display_name": "Python 3",
   "language": "python",
   "name": "python3"
  },
  "language_info": {
   "codemirror_mode": {
    "name": "ipython",
    "version": 3
   },
   "file_extension": ".py",
   "mimetype": "text/x-python",
   "name": "python",
   "nbconvert_exporter": "python",
   "pygments_lexer": "ipython3",
   "version": "3.8.8"
  }
 },
 "nbformat": 4,
 "nbformat_minor": 4
}
