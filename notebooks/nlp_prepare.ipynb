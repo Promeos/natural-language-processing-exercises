{
 "cells": [
  {
   "cell_type": "code",
   "execution_count": 1,
   "metadata": {},
   "outputs": [],
   "source": [
    "import unicodedata\n",
    "import re\n",
    "import json\n",
    "\n",
    "import nltk\n",
    "from nltk.tokenize.toktok import ToktokTokenizer\n",
    "from nltk.corpus import stopwords\n",
    "\n",
    "import pandas as pd\n",
    "\n",
    "import sys\n",
    "sys.path.insert(1, '../')\n",
    "\n",
    "import acquire"
   ]
  },
  {
   "cell_type": "code",
   "execution_count": 2,
   "metadata": {},
   "outputs": [],
   "source": [
    "news_df = acquire.get_news_articles()"
   ]
  },
  {
   "cell_type": "code",
   "execution_count": 3,
   "metadata": {
    "scrolled": false
   },
   "outputs": [],
   "source": [
    "codeup_df = acquire.get_blog_articles()"
   ]
  },
  {
   "cell_type": "code",
   "execution_count": 43,
   "metadata": {},
   "outputs": [],
   "source": [
    "article = codeup_df['article']['0'].lower()"
   ]
  },
  {
   "cell_type": "code",
   "execution_count": 44,
   "metadata": {},
   "outputs": [
    {
     "output_type": "execute_result",
     "data": {
      "text/plain": [
       "'the rumors are true! the time has arrived. codeup has officially opened applications to our new data science career accelerator, with only 25 seats available! this immersive program is one of a kind in san antonio, and will help you land a job in\\xa0glassdoor’s #1 best job in america.\\ndata science is a method of providing actionable intelligence from data.\\xa0the data revolution has hit san antonio,\\xa0resulting in an explosion in data scientist positions\\xa0across companies like usaa, accenture, booz allen hamilton, and heb. we’ve even seen\\xa0utsa invest $70 m for a cybersecurity center and school of data science.\\xa0we built a program to specifically meet the growing demands of this industry.\\nour program will be 18 weeks long, full-time, hands-on, and project-based. our curriculum development and instruction is led by senior data scientist, maggie giust, who has worked at heb, capital group, and rackspace, along with input from dozens of practitioners and hiring partners. students will work with real data sets, realistic problems, and the entire data science pipeline from collection to deployment. they will receive professional development training in resume writing, interviewing, and continuing education to prepare for a smooth transition to the workforce.\\nwe focus on applied data science for immediate impact and roi in a business, which is how we can back it all up with a 6 month tuition refund guarantee – just like our existing web dev program. we’re focusing on data science with python, sql, and ml, covered in\\xa014 modules: 1) fundamentals; 2) applied statistics; 3) sql; 4) python; 5) supervised machine learning – regression; 6) supervised machine learning – classification; 7) unsupervised machine learning – clustering; 8) time series analysis; 9) anomaly detection; 10) natural language processing; 11) distributed machine learning; 12) advanced topics (deep learning, nosql, cloud deployment, etc.); 13) storytelling with data; and 14) domain expertise development.\\napplications are now open\\xa0for codeup’s first data science cohort, which will start class on february 4, 2019. hurry – there are only 25 seats available! to further our mission of cultivating inclusive growth, scholarships will be available to women, minorities, lgbtqia+ individuals, veterans, first responders, and people relocating to san antonio.\\nif you want to learn about joining our program or hiring our graduates, email datascience@codeup.com!\\n\\n'"
      ]
     },
     "metadata": {},
     "execution_count": 44
    }
   ],
   "source": [
    "article"
   ]
  },
  {
   "cell_type": "code",
   "execution_count": 45,
   "metadata": {},
   "outputs": [
    {
     "output_type": "stream",
     "name": "stdout",
     "text": [
      "the rumors are true! the time has arrived. codeup has officially opened applications to our new data science career accelerator, with only 25 seats available! this immersive program is one of a kind in san antonio, and will help you land a job in glassdoors #1 best job in america.\ndata science is a method of providing actionable intelligence from data. the data revolution has hit san antonio, resulting in an explosion in data scientist positions across companies like usaa, accenture, booz allen hamilton, and heb. weve even seen utsa invest $70 m for a cybersecurity center and school of data science. we built a program to specifically meet the growing demands of this industry.\nour program will be 18 weeks long, full-time, hands-on, and project-based. our curriculum development and instruction is led by senior data scientist, maggie giust, who has worked at heb, capital group, and rackspace, along with input from dozens of practitioners and hiring partners. students will work with real data sets, realistic problems, and the entire data science pipeline from collection to deployment. they will receive professional development training in resume writing, interviewing, and continuing education to prepare for a smooth transition to the workforce.\nwe focus on applied data science for immediate impact and roi in a business, which is how we can back it all up with a 6 month tuition refund guarantee  just like our existing web dev program. were focusing on data science with python, sql, and ml, covered in 14 modules: 1) fundamentals; 2) applied statistics; 3) sql; 4) python; 5) supervised machine learning  regression; 6) supervised machine learning  classification; 7) unsupervised machine learning  clustering; 8) time series analysis; 9) anomaly detection; 10) natural language processing; 11) distributed machine learning; 12) advanced topics (deep learning, nosql, cloud deployment, etc.); 13) storytelling with data; and 14) domain expertise development.\napplications are now open for codeups first data science cohort, which will start class on february 4, 2019. hurry  there are only 25 seats available! to further our mission of cultivating inclusive growth, scholarships will be available to women, minorities, lgbtqia+ individuals, veterans, first responders, and people relocating to san antonio.\nif you want to learn about joining our program or hiring our graduates, email datascience@codeup.com!\n\n\n"
     ]
    }
   ],
   "source": [
    "article = unicodedata.normalize('NFKD', article)\\\n",
    "    .encode('ascii', 'ignore')\\\n",
    "    .decode('utf-8', 'ignore')\n",
    "\n",
    "print(article)"
   ]
  },
  {
   "cell_type": "code",
   "execution_count": 46,
   "metadata": {},
   "outputs": [
    {
     "output_type": "stream",
     "name": "stdout",
     "text": [
      "the rumors are true the time has arrived codeup has officially opened applications to our new data science career accelerator with only 25 seats available this immersive program is one of a kind in san antonio and will help you land a job in glassdoors 1 best job in america\ndata science is a method of providing actionable intelligence from data the data revolution has hit san antonio resulting in an explosion in data scientist positions across companies like usaa accenture booz allen hamilton and heb weve even seen utsa invest 70 m for a cybersecurity center and school of data science we built a program to specifically meet the growing demands of this industry\nour program will be 18 weeks long fulltime handson and projectbased our curriculum development and instruction is led by senior data scientist maggie giust who has worked at heb capital group and rackspace along with input from dozens of practitioners and hiring partners students will work with real data sets realistic problems and the entire data science pipeline from collection to deployment they will receive professional development training in resume writing interviewing and continuing education to prepare for a smooth transition to the workforce\nwe focus on applied data science for immediate impact and roi in a business which is how we can back it all up with a 6 month tuition refund guarantee  just like our existing web dev program were focusing on data science with python sql and ml covered in 14 modules 1 fundamentals 2 applied statistics 3 sql 4 python 5 supervised machine learning  regression 6 supervised machine learning  classification 7 unsupervised machine learning  clustering 8 time series analysis 9 anomaly detection 10 natural language processing 11 distributed machine learning 12 advanced topics deep learning nosql cloud deployment etc 13 storytelling with data and 14 domain expertise development\napplications are now open for codeups first data science cohort which will start class on february 4 2019 hurry  there are only 25 seats available to further our mission of cultivating inclusive growth scholarships will be available to women minorities lgbtqia individuals veterans first responders and people relocating to san antonio\nif you want to learn about joining our program or hiring our graduates email datasciencecodeupcom\n\n\n"
     ]
    }
   ],
   "source": [
    "article = re.sub(r\"[^a-z0-9'\\s]\", '', article)\n",
    "print(article)"
   ]
  },
  {
   "cell_type": "code",
   "execution_count": 47,
   "metadata": {},
   "outputs": [
    {
     "output_type": "stream",
     "name": "stdout",
     "text": [
      "the rumors are true the time has arrived codeup has officially opened applications to our new data science career accelerator with only 25 seats available this immersive program is one of a kind in san antonio and will help you land a job in glassdoors 1 best job in america\ndata science is a method of providing actionable intelligence from data the data revolution has hit san antonio resulting in an explosion in data scientist positions across companies like usaa accenture booz allen hamilton and heb weve even seen utsa invest 70 m for a cybersecurity center and school of data science we built a program to specifically meet the growing demands of this industry\nour program will be 18 weeks long fulltime handson and projectbased our curriculum development and instruction is led by senior data scientist maggie giust who has worked at heb capital group and rackspace along with input from dozens of practitioners and hiring partners students will work with real data sets realistic problems and the entire data science pipeline from collection to deployment they will receive professional development training in resume writing interviewing and continuing education to prepare for a smooth transition to the workforce\nwe focus on applied data science for immediate impact and roi in a business which is how we can back it all up with a 6 month tuition refund guarantee just like our existing web dev program were focusing on data science with python sql and ml covered in 14 modules 1 fundamentals 2 applied statistics 3 sql 4 python 5 supervised machine learning regression 6 supervised machine learning classification 7 unsupervised machine learning clustering 8 time series analysis 9 anomaly detection 10 natural language processing 11 distributed machine learning 12 advanced topics deep learning nosql cloud deployment etc 13 storytelling with data and 14 domain expertise development\napplications are now open for codeups first data science cohort which will start class on february 4 2019 hurry there are only 25 seats available to further our mission of cultivating inclusive growth scholarships will be available to women minorities lgbtqia individuals veterans first responders and people relocating to san antonio\nif you want to learn about joining our program or hiring our graduates email datasciencecodeupcom\n"
     ]
    }
   ],
   "source": [
    "tokenizer = nltk.tokenize.ToktokTokenizer()\n",
    "\n",
    "print(tokenizer.tokenize(article, return_str=True))"
   ]
  },
  {
   "cell_type": "code",
   "execution_count": 48,
   "metadata": {},
   "outputs": [
    {
     "output_type": "stream",
     "name": "stdout",
     "text": [
      "the rumor are true the time ha arriv codeup ha offici open applic to our new data scienc career acceler with onli 25 seat avail thi immers program is one of a kind in san antonio and will help you land a job in glassdoor 1 best job in america data scienc is a method of provid action intellig from data the data revolut ha hit san antonio result in an explos in data scientist posit across compani like usaa accentur booz allen hamilton and heb weve even seen utsa invest 70 m for a cybersecur center and school of data scienc we built a program to specif meet the grow demand of thi industri our program will be 18 week long fulltim handson and projectbas our curriculum develop and instruct is led by senior data scientist maggi giust who ha work at heb capit group and rackspac along with input from dozen of practition and hire partner student will work with real data set realist problem and the entir data scienc pipelin from collect to deploy they will receiv profession develop train in resum write interview and continu educ to prepar for a smooth transit to the workforc we focu on appli data scienc for immedi impact and roi in a busi which is how we can back it all up with a 6 month tuition refund guarante just like our exist web dev program were focus on data scienc with python sql and ml cover in 14 modul 1 fundament 2 appli statist 3 sql 4 python 5 supervis machin learn regress 6 supervis machin learn classif 7 unsupervis machin learn cluster 8 time seri analysi 9 anomali detect 10 natur languag process 11 distribut machin learn 12 advanc topic deep learn nosql cloud deploy etc 13 storytel with data and 14 domain expertis develop applic are now open for codeup first data scienc cohort which will start class on februari 4 2019 hurri there are onli 25 seat avail to further our mission of cultiv inclus growth scholarship will be avail to women minor lgbtqia individu veteran first respond and peopl reloc to san antonio if you want to learn about join our program or hire our graduat email datasciencecodeupcom\n"
     ]
    }
   ],
   "source": [
    "ps = nltk.porter.PorterStemmer()\n",
    "\n",
    "stems = [ps.stem(word) for word in article.split()]\n",
    "article_stemmed = ' '.join(stems)\n",
    "print(article_stemmed)"
   ]
  },
  {
   "cell_type": "code",
   "execution_count": 49,
   "metadata": {},
   "outputs": [
    {
     "output_type": "execute_result",
     "data": {
      "text/plain": [
       "data      13\n",
       "and       13\n",
       "to         9\n",
       "in         8\n",
       "a          8\n",
       "scienc     7\n",
       "our        7\n",
       "the        6\n",
       "learn      6\n",
       "of         6\n",
       "dtype: int64"
      ]
     },
     "metadata": {},
     "execution_count": 49
    }
   ],
   "source": [
    "pd.Series(stems).value_counts().head(10)"
   ]
  },
  {
   "cell_type": "code",
   "execution_count": 50,
   "metadata": {},
   "outputs": [
    {
     "output_type": "stream",
     "name": "stdout",
     "text": [
      "stem: studi -- lemma: study\nstem: studi -- lemma: study\n"
     ]
    }
   ],
   "source": [
    "wnl = nltk.stem.WordNetLemmatizer()\n",
    "\n",
    "for word in 'study studies'.split():\n",
    "    print('stem:', ps.stem(word), '-- lemma:', wnl.lemmatize(word))"
   ]
  },
  {
   "cell_type": "code",
   "execution_count": 51,
   "metadata": {},
   "outputs": [
    {
     "output_type": "stream",
     "name": "stdout",
     "text": [
      "the rumor are true the time ha arrived codeup ha officially opened application to our new data science career accelerator with only 25 seat available this immersive program is one of a kind in san antonio and will help you land a job in glassdoors 1 best job in america data science is a method of providing actionable intelligence from data the data revolution ha hit san antonio resulting in an explosion in data scientist position across company like usaa accenture booz allen hamilton and heb weve even seen utsa invest 70 m for a cybersecurity center and school of data science we built a program to specifically meet the growing demand of this industry our program will be 18 week long fulltime handson and projectbased our curriculum development and instruction is led by senior data scientist maggie giust who ha worked at heb capital group and rackspace along with input from dozen of practitioner and hiring partner student will work with real data set realistic problem and the entire data science pipeline from collection to deployment they will receive professional development training in resume writing interviewing and continuing education to prepare for a smooth transition to the workforce we focus on applied data science for immediate impact and roi in a business which is how we can back it all up with a 6 month tuition refund guarantee just like our existing web dev program were focusing on data science with python sql and ml covered in 14 module 1 fundamental 2 applied statistic 3 sql 4 python 5 supervised machine learning regression 6 supervised machine learning classification 7 unsupervised machine learning clustering 8 time series analysis 9 anomaly detection 10 natural language processing 11 distributed machine learning 12 advanced topic deep learning nosql cloud deployment etc 13 storytelling with data and 14 domain expertise development application are now open for codeups first data science cohort which will start class on february 4 2019 hurry there are only 25 seat available to further our mission of cultivating inclusive growth scholarship will be available to woman minority lgbtqia individual veteran first responder and people relocating to san antonio if you want to learn about joining our program or hiring our graduate email datasciencecodeupcom\n"
     ]
    }
   ],
   "source": [
    "lemmas = [wnl.lemmatize(word) for word in article.split()]\n",
    "article_lemmatized = ' '.join(lemmas)\n",
    "\n",
    "print(article_lemmatized)"
   ]
  },
  {
   "cell_type": "code",
   "execution_count": 52,
   "metadata": {},
   "outputs": [
    {
     "output_type": "execute_result",
     "data": {
      "text/plain": [
       "data       13\n",
       "and        13\n",
       "to          9\n",
       "a           8\n",
       "in          8\n",
       "our         7\n",
       "science     7\n",
       "with        6\n",
       "the         6\n",
       "of          6\n",
       "dtype: int64"
      ]
     },
     "metadata": {},
     "execution_count": 52
    }
   ],
   "source": [
    "pd.Series(lemmas).value_counts()[:10]"
   ]
  },
  {
   "cell_type": "code",
   "execution_count": 53,
   "metadata": {},
   "outputs": [],
   "source": [
    "stopword_list = stopwords.words('english')"
   ]
  },
  {
   "cell_type": "code",
   "execution_count": 54,
   "metadata": {},
   "outputs": [
    {
     "output_type": "execute_result",
     "data": {
      "text/plain": [
       "['i', 'me', 'my', 'myself', 'we', 'our', 'ours', 'ourselves', 'you', \"you're\"]"
      ]
     },
     "metadata": {},
     "execution_count": 54
    }
   ],
   "source": [
    "stopword_list[:10]"
   ]
  },
  {
   "cell_type": "code",
   "execution_count": 55,
   "metadata": {},
   "outputs": [
    {
     "output_type": "stream",
     "name": "stdout",
     "text": [
      "Removed 122 stopwords\n---\nrumors true time arrived codeup officially opened applications new data science career accelerator 25 seats available immersive program one kind san antonio help land job glassdoors 1 best job america data science method providing actionable intelligence data data revolution hit san antonio resulting explosion data scientist positions across companies like usaa accenture booz allen hamilton heb weve even seen utsa invest 70 cybersecurity center school data science built program specifically meet growing demands industry program 18 weeks long fulltime handson projectbased curriculum development instruction led senior data scientist maggie giust worked heb capital group rackspace along input dozens practitioners hiring partners students work real data sets realistic problems entire data science pipeline collection deployment receive professional development training resume writing interviewing continuing education prepare smooth transition workforce focus applied data science immediate impact roi business back 6 month tuition refund guarantee like existing web dev program focusing data science python sql ml covered 14 modules 1 fundamentals 2 applied statistics 3 sql 4 python 5 supervised machine learning regression 6 supervised machine learning classification 7 unsupervised machine learning clustering 8 time series analysis 9 anomaly detection 10 natural language processing 11 distributed machine learning 12 advanced topics deep learning nosql cloud deployment etc 13 storytelling data 14 domain expertise development applications open codeups first data science cohort start class february 4 2019 hurry 25 seats available mission cultivating inclusive growth scholarships available women minorities lgbtqia individuals veterans first responders people relocating san antonio want learn joining program hiring graduates email datasciencecodeupcom\n"
     ]
    }
   ],
   "source": [
    "words = article.split()\n",
    "filtered_words = [w for w in words if w not in stopword_list]\n",
    "\n",
    "print('Removed {} stopwords'.format(len(words) - len(filtered_words)))\n",
    "print('---')\n",
    "\n",
    "article_without_stopwords = ' '.join(filtered_words)\n",
    "\n",
    "print(article_without_stopwords)"
   ]
  },
  {
   "cell_type": "code",
   "execution_count": 56,
   "metadata": {},
   "outputs": [],
   "source": [
    "def basic_clean(word):\n",
    "    '''\n",
    "    \n",
    "    '''\n",
    "    # Remove accented characters\n",
    "    word = unicodedata.normalize('NFKD', word)\\\n",
    "    .encode('ascii', 'ignore')\\\n",
    "    .decode('utf-8', 'ignore')\n",
    "    \n",
    "    # Remove special characters\n",
    "    cleaned_word = re.sub('[^a-zA-Z0-9]', '', word)\\\n",
    "                               .lower()\n",
    "    return cleaned_word"
   ]
  },
  {
   "cell_type": "code",
   "execution_count": 57,
   "metadata": {},
   "outputs": [
    {
     "output_type": "execute_result",
     "data": {
      "text/plain": [
       "'this134oaeo'"
      ]
     },
     "metadata": {},
     "execution_count": 57
    }
   ],
   "source": [
    "basic_clean('this134=-=-oae=-o ')"
   ]
  },
  {
   "cell_type": "code",
   "execution_count": 58,
   "metadata": {},
   "outputs": [],
   "source": [
    "def tokenize(words):\n",
    "    tokenizer = nltk.tokenize.ToktokTokenizer()\n",
    "    tokenized_words = tokenizer(words)"
   ]
  },
  {
   "cell_type": "code",
   "execution_count": 59,
   "metadata": {},
   "outputs": [],
   "source": [
    "def stem(words):\n",
    "    ps = nltk.stem.PorterStemmer()\n",
    "    stems = [ps(word) for word in words.split()]\n",
    "    stemmed_words = ' '.join(stems)\n",
    "    return stemmed_words"
   ]
  },
  {
   "cell_type": "code",
   "execution_count": 60,
   "metadata": {},
   "outputs": [],
   "source": [
    "def lemmatize(tokens):\n",
    "    lemmas = [wnl.lemmatize(word) for word in article.split()]\n",
    "    lemmatized_words = ' '.join(lemmas)\n",
    "    return lemmatized_words"
   ]
  },
  {
   "cell_type": "markdown",
   "metadata": {},
   "source": [
    "This function should define two optional parameters, extra_words and exclude_words. These parameters should define any additional stop words to include, and any words that we don't want to remove."
   ]
  },
  {
   "cell_type": "code",
   "execution_count": 61,
   "metadata": {},
   "outputs": [],
   "source": [
    "def remove_stop_words(tokens, extra_words, exclude_words):\n",
    "    '''\n",
    "    \n",
    "    '''\n",
    "    words = tokens.split('')\n",
    "    stopword_list = stopwords.words('english')\n",
    "    stopword_list.extend(exclude_words)\n",
    "    \n",
    "    filtered_words = [word for word in words not in stopword_list]\n",
    "    filtered_words.extend(extra_words)\n",
    "\n",
    "    return filtered_words"
   ]
  },
  {
   "cell_type": "code",
   "execution_count": 62,
   "metadata": {},
   "outputs": [],
   "source": [
    "news_df = acquire.get_news_articles()"
   ]
  },
  {
   "cell_type": "code",
   "execution_count": 63,
   "metadata": {
    "scrolled": false
   },
   "outputs": [
    {
     "output_type": "execute_result",
     "data": {
      "text/plain": [
       "who holds a Doctorate of Philosophy in Space Physics, and Victor Glover, who has in the past served as Legislative Fellow in US Senate. Astronaut Soichi Noguchi holds a Doctorate of Philosophy in Advanced Interdisciplinary Studies, while Michael Hopkins holds a Master of Science in Aerospace Engineering.\",\n",
       "  '52': 'The increase in the number of Zoom meetings due to COVID-19 could be behind a surge in the demand for plastic surgery, experts said in an editorial published in Facial Plastic Surgery & Aesthetic Medicine. \"Unlike the still and filtered selfies of social media, Zoom displays an unedited version of oneself,\" they said. They\\'re calling the new phenomenon \\'Zoom Dysmorphia\\'.',\n",
       "  '53': 'A 54-year-old Bengaluru man allegedly lost ₹5.85 lakh after fraudsters, under the guise of updating his UPI account, asked him to install an app that automatically debited money from his account. The victim was asked to install \"Quick Support App\" and share his ID number after which he received a message saying that ₹4.99 lakh was debited from his account.',\n",
       "  '54': \"Tesla has opened its largest Supercharger station with 56 charging points. The charging network is located between the Bay Area and Los Angeles, two of Tesla's biggest markets in the world, as per Electrek. Tesla has also built solar canopies for providing shade to the charging electric vehicles while also helping power the Supercharger station.\",\n",
       "  '55': 'Amazon has apologised for claiming Northern Ireland  wasn\\'t a part of the UK in a tweet. A rugby fan from Northern Ireland had asked Amazon why he wasn\\'t able to view a tournament on Amazon Prime, to which Amazon said it was only available to Prime Members in the UK. \"We don\\'t have the rights to other territories,\" Amazon added.',\n",
       "  '56': 'Videoconferencing platform Zoom announced that it is temporarily lifting the 40-minute call limit that it imposes on all free calls made via its platform on the occasion of Thanksgiving. Since the limit will be lifted globally, users in India can access the service for free between 10:30 AM IST on November 26 to 4:30 PM IST on November 27.',\n",
       "  '57': \"Noyb, a digital rights group led by activist Max Schrems filed complaints with German and Spanish data protection authorities over Apple's online tracking tool. The group alleged that Apple places tracking codes that are comparable to a cookie in its phones without any consent by the user. In the past, Noyb has fought two cases against Facebook successfully.\",\n",
       "  '58': \"Apple has updated a support documentation page specifying that its anti-malware feature, Gatekeeper, doesn't track what its Mac users are doing. Gatekeeper prevents users from downloading an app that has some known malware. Earlier, a large number of Mac users had reported failures in opening third-party apps, which were caused by Gatekeeper and later, privacy concerns were raised around it.\",\n",
       "  '59': 'The finance ministry has given its approval to civil aviation regulator, DGCA, to set up a separate Drones Directorate. The Directorate will be established with eight DGCA officials to begin with and will be expanded with time. As per media reports, the Directorate will solely focus on maintaining the drones ecosystem in the country.',\n",
       "  '60': \"'Resident Evil' game-maker Capcom on Monday confirmed that personal information of as many as 3,50,000 customers was stolen in a ransomware attack earlier this month. Confidential corporate information, as well as the \\u200bpersonal data of its employees, was also stolen, it added. No credit card information was breached as online payments are handled by a third-party company, Capcom said.\",\n",
       "  '61': 'The US government has said that sharing other firms\\' sensitive information with Google in an antitrust lawsuit would undermine trust and hamper future investigations. Google is seeking access to information the government has obtained from third parties, including Amazon and Microsoft, to prepare for a trial. The government said sharing of data could \"unfairly advantage Google in the marketplace\".',\n",
       "  '62': 'Google has released a new tool that gives users an estimate on when their current Photos storage will run out, based on personal upload history. Users can access the tool at photos.google.com/storage. The tool also tells users how much space is being occupied by photos, videos, Gmail and Drive. Currently, Google offers customers 15GB of data storage free.',\n",
       "  '63': 'Bengaluru-based retail tech startup Arzooo has raised an undisclosed sum led by Zoom Founder Eric Yuan and Silicon Valley venture capitalist Bill Tai. \"Alongside the investment, Eric’s entrepreneurial journey and experience will be a great intellectual capital for us,\" said Arzooo Co-founder Khushnud Khan. Last month, the startup raised $7.5 million in its Series A funding led by WRVI Capital.',\n",
       "  '64': 'US President-elect Joe Biden took to Twitter to congratulate SpaceX and NASA for launching the first commercial crew flight into space. \"It\\'s a testament to power of science and what we can accomplish by harnessing our innovation, ingenuity, and determination,\" Biden wrote. This marks the second time in a decade that NASA astronauts were sent into space from American soil.',\n",
       "  '65': \"An Oxford study has claimed that playing video games can be good for people's mental health. The study used industry data on actual playtime for two popular video games. It said those who derived enjoyment from playing were more likely to report experiencing positive wellbeing. Experiences of competence and social connection through games may contribute to wellbeing, the study suggested.\",\n",
       "  '66': \"Virgin Galactic on Monday rescheduled its test spaceflight, that was set to launch between November 19 and 23 from New Mexico, due to revised COVID-19 guidelines issued by the US state's Health Department. A stay-at-home order till November 30 has been enacted in New Mexico due to increasing coronavirus cases. The space tourism firm hasn't announced a new test schedule.\",\n",
       "  '67': 'The Director of Identity Security at Microsoft, Alex Weinert, has advised users to stop using SMS and voice calls for two-factor authentication due to poor levels of security surrounding telephone networks. However, Alex wrote that using any type of multi-factor authentication is better since the rate of compromise for such accounts is less than 0.1% of the general population.',\n",
       "  '68': 'Conservation scientist Melanie Clapham and software developers Ed Miller and Mary Nguyen have developed a facial recognition system, called BearID, to identify and monitor the individual health of bears. The system, which has an accuracy rate of 84%, aims to reduce direct interaction between humans and wildlife as well as to aid the conservation of threatened wildlife.',\n",
       "  '69': 'Cyberattacks in India have increased multi-fold in the current environment with close to 4 lakh malware and 375 cyberattacks being witnessed daily, the National Cybersecurity Coordinator Lieutenant General (Retired) Rajesh Pant said. \"This disease of just clicking on the link is another reason where the malware drops,\" Pant said, warning users to be careful about clickbaits.',\n",
       "  '70': 'Union Minister Prakash Javadekar discussed the absence of self-regulation in OTT platforms and said the government doesn\\'t want to regulate them and that it is the platform\\'s responsibility. He noted that print media had a \"self-regulation\" body in the PCI. \"There are good films on OTT platforms, ordinary films, bad films and even very bad films,\" he added.',\n",
       "  '71': 'A 17-year-old Bangladeshi teenager has been awarded the 2020 KidsRights International Children\\'s Peace Prize for developing a mobile app that allows teenagers to report cyberbullying and cybercrime. The \"Cyber Teens\" app created by Sadat Rahman has supported over 300 victims of cyberbullying to date and has helped the local police in Bangladesh in arresting eight perpetrators of cybercrime.',\n",
       "  '72': \"European Commissioner for Internal Market Thierry Breton told a German newspaper that technology companies' services could be banned from Europe if they breach European Union (EU) regulation. EU will announce laws called Digital Services Act and the Digital Markets Act for tech firms on December 2. The rules will reportedly force big firms to share data with smaller rivals.\",\n",
       "  '73': \"Users of Starlink, which is Musk-led SpaceX's space satellite internet venture, reported speeds surpassing SpaceX's own claims of 50-150 Mbps. Users reported speeds of 175 Mbps even in high-speed winds and low temperatures. One user reported the fastest download speed at 208.63 Mbps. However, there were also reports of the Starlink terminal not working when snow accumulates on it.\",\n",
       "  '74': 'Australian Securities Exchange (ASX) was forced to halt trading on its platform on Monday after a software issue led to inaccurate market data. \"ASX and...Nasdaq have identified the root cause and a resolution path to fix it,\" ASX said, adding that the issue would be resolved overnight and the market would re-open as usual on November 17 (Tuesday).',\n",
       "  '75': 'Amitabh Bachchan has shared a photo of a diya being lit near the statue of his late father, poet Harivansh Rai Bachchan, in a square in the Polish city of Wroclaw which has been named after his father. \"They honour Babuji by placing a \\'diya\\' for Deepavali at his statue in Wroclaw...an honour a pride,\" he wrote. ',\n",
       "  '76': 'Hollywood actor Dwayne \\'The Rock\\' Johnson took to Instagram to reveal that he failed to get into an \"iconic Porsche\" sports car for a chase sequence in an upcoming movie. He added that the team had to change the entire shot sequence around due to his inability to get into the car because of his \"bit too wide\" back.',\n",
       "  '77': 'On the occasion of his granddaughter Aaradhya\\'s birthday, actor Amitabh Bachchan took to social media to share a fan-made collage of Aaradhya\\'s photos over nine years. \"Happy birthday Aaradhya...all my love,\" Bachchan wrote in the caption. On Aishwarya\\'s birthday earlier this month, the actress had shared pictures with Aaradhya and written, \"The absolute love of my life...Aaradhya my angel.\" ',\n",
       "  '78': 'Singer Amaal Mallik, speaking about Salman Khan\\'s fans trolling him for saying he\\'s Shah Rukh Khan\\'s fan, said, \"People who say they\\'re fans of a certain star, should know...the certain star has launched me.\" \"He\\'s everything to me. He\\'s...family,\" added Amaal. \"I love Shah Rukh Khan as an SRKian. You cannot have a problem with my personal opinion,\" he stated.',\n",
       "  '79': 'Singer Sonu Nigam, on being asked if his son Neevan aspires to become a singer, said, \"I don\\'t want him to be a singer, at least not in this country.\" \"He lives in Dubai. I\\'ve already got him out of India. He\\'s a born singer but he has another interest...As of now, he\\'s one of UAE\\'s topmost gamers,\" Sonu added.',\n",
       "  '80': 'Krushna Abhishek has opted out of an episode of \\'The Kapil Sharma Show\\' which will feature his uncle, Govinda, as guest. \"The enmity has affected me badly. When...relationship between...people is strained, it\\'s difficult to perform comedy,\" he stated. Krushna added, \"[He] didn\\'t even come to see my twins in hospital, not even when one of them was fighting for life.\"',\n",
       "  '81': 'Selvarathinam, an actor who played a villain in a Tamil TV series was hacked to death. \"[On Sunday]...he received a call after which he left...Later, his roommate received the information [about his death],\" police said. CCTV footage shows 4 suspicious men moving about near the murder spot. The actor could be found involved in a brief argument with the gang.',\n",
       "  '82': 'Actor Aditya Roy Kapur will start shooting for his upcoming action film \\'OM: The Battle Within\\', which will be produced by filmmaker Ahmed Khan, in December. \"I have been living with OM for the last few months...looking forward to the journey,\" Aditya told Mumbai Mirror. \"The film revolves around emotionally disturbed relationships in the line of duty,\" Ahmed explained.  \\n\\n',\n",
       "  '83': \"Justin Bieber, who was nominated in seven categories for this year's People's Choice Awards, accepted the award for The Male Artist of 2020. Singer-actor Jennifer Lopez was titled People's Icon of 2019, and 'The Ellen DeGeneres Show' received the award for the best daytime talk show. The winners list also included Will Smith, Chris Hemsworth and Joey King. \",\n",
       "  '84': 'Actor Jude Law, who plays younger Albus Dumbledore in \\'Fantastic Beasts\\' movies, said his former co-star Johnny Depp had to follow the studio\\'s decision and exit the franchise. \"It\\'s the studio and the company that makes the big decisions...and you have to go along with those because we\\'re just a member of the team,\" Jude said. \\n',\n",
       "  '85': 'Irrfan Khan\\'s son Babil Khan, on Sunday, posted a picture of his father posing with a peacock and shared a note for the late actor on Instagram. \"I still feel like you\\'ve gone for a long shoot, a long schedule underwater and you\\'ll come back to me, to the surface again,\" he wrote in the caption. ',\n",
       "  '86': 'Embassy of India in France paid tribute to actor Soumitra Chatterjee following his demise. The Embassy noted that in 1999, Soumitra became the first Indian film personality to be conferred with Ordre des Arts et des Lettres, France\\'s highest award for artists. \"In 2017, he was honoured with France\\'s highest civilian award-Chevalier of Legion of Honor,\" the tweet read. ',\n",
       "  '87': 'Television actor Karanvir Bohra and his wife Teejay Sidhu, who are expecting their third child, have decided to head to Canada for the delivery. \"My wife and I thought about having this child in India. But since our twin girls were so beautifully born without any problems in Vancouver...we decided to have the baby in Canada,\" Karanvir shared. ',\n",
       "  '88': \"The team of Keanu Reeves' upcoming film 'The Matrix 4' reportedly hosted a wrap party with around 200 people in attendance, which is prevented by the country's government currently owing to the COVID-19 pandemic. Reacting to the reports, the spokeswoman of the film's studio stated that the team was shooting a celebration scene and assured that they followed hygiene regulations.\",\n",
       "  '89': 'Following the demise of Bengali actor Soumitra Chatterjee, late filmmaker Satyajit Ray\\'s son Sandip Ray said, \"I lost a member of my family\". Soumitra made his debut in 1959 with Satyajit\\'s \\'Apur Sansar\\' and played Sharmila Tagore\\'s husband. \"He shared wonderful chemistry with my father. He gave a lot of thought to the characters my father created,\" Sandip said. ',\n",
       "  '90': 'Following Bengali actor Soumitra Chatterjee\\'s demise, actor Amitabh Bachchan shared a picture of himself with the late actor on social media and offered his condolences. \"Soumitra Chatterjee, an iconic legend, one of the mightiest pillars of the Film Industry,  has fallen...a gentle soul and abundant talent. Last met him at the IFFI in Kolkata,\" he tweeted. ',\n",
       "  '91': 'Chris Columbus, Director of \\'Home Alone\\', criticised Disney\\'s reboot of the franchise and stated that the company should focus on coming up with original content. \"You don\\'t remake films that have had the longevity of \\'Home Alone\\'...It\\'s been done. Do your own thing. Even if you fail...you have come up with something original,\" Chris said. ',\n",
       "  '92': 'Actress Samantha Akkineni, who will star in the upcoming second season of the web-series \\'The Family Man\\', said actresses are not offered cliched characters anymore. \"With OTT and exposure to world cinema, the options and opportunities for women are steadily increasing. We are not offered as cliched roles as we were before,\" Samantha said. ',\n",
       "  '93': 'Following veteran Bengali actor Soumitra Chatterjee\\'s demise, Sharmila Tagore spoke about the bond she shared with him and said he was one of her oldest friends. \"I find him irreplaceable...there\\'s nobody else I can share so much with...that kind of friendship is so rare,\" she said. Soumitra and Sharmila starred together in Satyajit Ray\\'s 1959 film \\'Apur Sansar\\'.  ',\n",
       "  '94': 'When asked if Marvel will digitally recreate late actor Chadwick Boseman for \\'Black Panther\\' sequel, Marvel Studios Executive Vice President Victoria Alonso said, \"No, there\\'s only one Chadwick and he\\'s not with us.\" During an interview with Clarin, Alonso added, \"Our king, unfortunately, has died in real life...we are taking time to see how we continue the story.\" ',\n",
       "  '95': 'Following veteran Bengali actor Soumitra Chatterjee\\'s demise, his daughter Poulami Bose urged people to avoid coming over to their place, amid the coronavirus pandemic, to offer condolences. \"My mother\\'s and my son\\'s health is fragile... please do not put them at risk...keep the pandemic in mind and pray from the safety of your homes,\" she wrote on Facebook.  \\n\\n',\n",
       "  '96': \"Actress Zazie Beetz, who played Domino in 'Deadpool 2', has joined the cast of Brad Pitt starrer action-thriller titled 'Bullet Train', Deadline reported. The movie is reportedly based on the Japanese novel 'Maria Beetle' and will be directed by David Leitch. Reportedly, the movie will also feature Joey King, Aaron Taylor-Johnson, Brian Tyree Henry and Andrew Koji. \\n\",\n",
       "  '97': 'Speaking about his cameo in Akshay Kumar-starrer \\'Laxmii\\', actor Sharad Kelkar said, \"It had a lot of emotions, shades of anger, drama and pain of being a transgender.\" He mentioned that Akshay had recommended his name for the role. \"Many people have been judgemental. But...it feels good to read comments from people who talk about your performance,\" Sharad said. ',\n",
       "  '98': 'Speaking about her experience of working with Aditya Roy Kapur in their latest film \\'Ludo\\', Sanya Malhotra said the actor made her feel comfortable on the sets. \"Both Adi and I would be clueless most of the time and that is what we would jam on. We used to talk about random things in between,\" she added. \\n'},\n",
       " 'category': {'0': 'business',\n",
       "  '1': 'business',\n",
       "  '2': 'business',\n",
       "  '3': 'business',\n",
       "  '4': 'business',\n",
       "  '5': 'business',\n",
       "  '6': 'business',\n",
       "  '7': 'business',\n",
       "  '8': 'business',\n",
       "  '9': 'business',\n",
       "  '10': 'business',\n",
       "  '11': 'business',\n",
       "  '12': 'business',\n",
       "  '13': 'business',\n",
       "  '14': 'business',\n",
       "  '15': 'business',\n",
       "  '16': 'business',\n",
       "  '17': 'business',\n",
       "  '18': 'business',\n",
       "  '19': 'business',\n",
       "  '20': 'business',\n",
       "  '21': 'business',\n",
       "  '22': 'business',\n",
       "  '23': 'business',\n",
       "  '24': 'business',\n",
       "  '25': 'sports',\n",
       "  '26': 'sports',\n",
       "  '27': 'sports',\n",
       "  '28': 'sports',\n",
       "  '29': 'sports',\n",
       "  '30': 'sports',\n",
       "  '31': 'sports',\n",
       "  '32': 'sports',\n",
       "  '33': 'sports',\n",
       "  '34': 'sports',\n",
       "  '35': 'sports',\n",
       "  '36': 'sports',\n",
       "  '37': 'sports',\n",
       "  '38': 'sports',\n",
       "  '39': 'sports',\n",
       "  '40': 'sports',\n",
       "  '41': 'sports',\n",
       "  '42': 'sports',\n",
       "  '43': 'sports',\n",
       "  '44': 'sports',\n",
       "  '45': 'sports',\n",
       "  '46': 'sports',\n",
       "  '47': 'sports',\n",
       "  '48': 'sports',\n",
       "  '49': 'sports',\n",
       "  '50': 'technology',\n",
       "  '51': 'technology',\n",
       "  '52': 'technology',\n",
       "  '53': 'technology',\n",
       "  '54': 'technology',\n",
       "  '55': 'technology',\n",
       "  '56': 'technology',\n",
       "  '57': 'technology',\n",
       "  '58': 'technology',\n",
       "  '59': 'technology',\n",
       "  '60': 'technology',\n",
       "  '61': 'technology',\n",
       "  '62': 'technology',\n",
       "  '63': 'technology',\n",
       "  '64': 'technology',\n",
       "  '65': 'technology',\n",
       "  '66': 'technology',\n",
       "  '67': 'technology',\n",
       "  '68': 'technology',\n",
       "  '69': 'technology',\n",
       "  '70': 'technology',\n",
       "  '71': 'technology',\n",
       "  '72': 'technology',\n",
       "  '73': 'technology',\n",
       "  '74': 'technology',\n",
       "  '75': 'entertainment',\n",
       "  '76': 'entertainment',\n",
       "  '77': 'entertainment',\n",
       "  '78': 'entertainment',\n",
       "  '79': 'entertainment',\n",
       "  '80': 'entertainment',\n",
       "  '81': 'entertainment',\n",
       "  '82': 'entertainment',\n",
       "  '83': 'entertainment',\n",
       "  '84': 'entertainment',\n",
       "  '85': 'entertainment',\n",
       "  '86': 'entertainment',\n",
       "  '87': 'entertainment',\n",
       "  '88': 'entertainment',\n",
       "  '89': 'entertainment',\n",
       "  '90': 'entertainment',\n",
       "  '91': 'entertainment',\n",
       "  '92': 'entertainment',\n",
       "  '93': 'entertainment',\n",
       "  '94': 'entertainment',\n",
       "  '95': 'entertainment',\n",
       "  '96': 'entertainment',\n",
       "  '97': 'entertainment',\n",
       "  '98': 'entertainment'}}"
      ]
     },
     "metadata": {},
     "execution_count": 63
    }
   ],
   "source": [
    "news_df"
   ]
  }
 ],
 "metadata": {
  "kernelspec": {
   "name": "python3",
   "display_name": "Python 3.7.8 64-bit (conda)",
   "metadata": {
    "interpreter": {
     "hash": "569d6b7e9215e11aba41c6454007e5c1b78bad7df09dab765d8cf00362c40f03"
    }
   }
  },
  "language_info": {
   "codemirror_mode": {
    "name": "ipython",
    "version": 3
   },
   "file_extension": ".py",
   "mimetype": "text/x-python",
   "name": "python",
   "nbconvert_exporter": "python",
   "pygments_lexer": "ipython3",
   "version": "3.7.8-final"
  }
 },
 "nbformat": 4,
 "nbformat_minor": 4
}